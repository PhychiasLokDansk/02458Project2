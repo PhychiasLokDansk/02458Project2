{
 "cells": [
  {
   "cell_type": "markdown",
   "source": [
    "# Selection\n",
    "## Dataset selection\n",
    "- Using the KDEF:\n",
    "    - The facial expressions are clear.\n",
    "    - The brightness not varies much across the data-set. \n",
    "    - The data-set offer 5 orientations of the photos. We can use only the front ones.\n",
    "## Feature selection \n",
    "- Select the emotion anger as the testing feature: \n",
    "    - We see Anger as a much more obvious emotion to the subjects than the others.\n",
    "# Rating strategies\n",
    "- "
   ],
   "metadata": {
    "collapsed": false
   },
   "id": "3c85baa82ded81ec"
  },
  {
   "cell_type": "code",
   "execution_count": 18,
   "id": "initial_id",
   "metadata": {
    "collapsed": true,
    "ExecuteTime": {
     "end_time": "2023-10-01T09:54:56.607798800Z",
     "start_time": "2023-10-01T09:54:52.567332700Z"
    }
   },
   "outputs": [
    {
     "name": "stdout",
     "output_type": "stream",
     "text": [
      "<class 'PIL.Image.Image'>\n"
     ]
    }
   ],
   "source": [
    "#!/usr/bin/python\n",
    "# -*- coding: UTF-8 -*-\n",
    "import scipy\n",
    "import numpy as np\n",
    "from PIL import Image, ImageFilter\n",
    "import os\n",
    "\n",
    "factor = 2\n",
    "\n",
    "Img_dir = \"C:\\\\Users\\Phychias\\Desktop\\Anger\"\n",
    "\n",
    "\n",
    "def img_read(dir):\n",
    "    images = []\n",
    "    for file in os.listdir(dir):\n",
    "        img_path = os.path.join(dir, file)\n",
    "        image = Image.open(img_path)\n",
    "        image = image.filter(filter=ImageFilter.BLUR)\n",
    "        image = image.reduce(factor, box=None)\n",
    "        images.append(image)\n",
    "    return images\n",
    "\n",
    "\n",
    "Images = img_read(\"C:\\\\Users\\Phychias\\Desktop\\Anger\")\n",
    "\n",
    "print(type(Images[1]))"
   ]
  },
  {
   "cell_type": "code",
   "execution_count": 23,
   "outputs": [
    {
     "name": "stdout",
     "output_type": "stream",
     "text": [
      "please enter the score for how angry the picture looks like. Rating from 0 too 10 and use integer please\n",
      "please enter the score for how angry the picture looks like. Rating from 0 too 10 and use integer please\n",
      "please enter the score for how angry the picture looks like. Rating from 0 too 10 and use integer please\n",
      "please enter the score for how angry the picture looks like. Rating from 0 too 10 and use integer please\n",
      "please enter the score for how angry the picture looks like. Rating from 0 too 10 and use integer please\n",
      "please enter the score for how angry the picture looks like. Rating from 0 too 10 and use integer please\n",
      "please enter the score for how angry the picture looks like. Rating from 0 too 10 and use integer please\n",
      "please enter the score for how angry the picture looks like. Rating from 0 too 10 and use integer please\n",
      "please enter the score for how angry the picture looks like. Rating from 0 too 10 and use integer please\n",
      "please enter the score for how angry the picture looks like. Rating from 0 too 10 and use integer please\n",
      "please enter the score for how angry the picture looks like. Rating from 0 too 10 and use integer please\n",
      "please enter the score for how angry the picture looks like. Rating from 0 too 10 and use integer please\n",
      "please enter the score for how angry the picture looks like. Rating from 0 too 10 and use integer please\n",
      "please enter the score for how angry the picture looks like. Rating from 0 too 10 and use integer please\n",
      "please enter the score for how angry the picture looks like. Rating from 0 too 10 and use integer please\n",
      "please enter the score for how angry the picture looks like. Rating from 0 too 10 and use integer please\n",
      "please enter the score for how angry the picture looks like. Rating from 0 too 10 and use integer please\n",
      "please enter the score for how angry the picture looks like. Rating from 0 too 10 and use integer please\n",
      "please enter the score for how angry the picture looks like. Rating from 0 too 10 and use integer please\n",
      "please enter the score for how angry the picture looks like. Rating from 0 too 10 and use integer please\n",
      "please enter the score for how angry the picture looks like. Rating from 0 too 10 and use integer please\n",
      "please enter the score for how angry the picture looks like. Rating from 0 too 10 and use integer please\n",
      "please enter the score for how angry the picture looks like. Rating from 0 too 10 and use integer please\n",
      "please enter the score for how angry the picture looks like. Rating from 0 too 10 and use integer please\n",
      "please enter the score for how angry the picture looks like. Rating from 0 too 10 and use integer please\n",
      "please enter the score for how angry the picture looks like. Rating from 0 too 10 and use integer please\n",
      "please enter the score for how angry the picture looks like. Rating from 0 too 10 and use integer please\n",
      "please enter the score for how angry the picture looks like. Rating from 0 too 10 and use integer please\n",
      "please enter the score for how angry the picture looks like. Rating from 0 too 10 and use integer please\n",
      "please enter the score for how angry the picture looks like. Rating from 0 too 10 and use integer please\n",
      "please enter the score for how angry the picture looks like. Rating from 0 too 10 and use integer please\n",
      "please enter the score for how angry the picture looks like. Rating from 0 too 10 and use integer please\n",
      "please enter the score for how angry the picture looks like. Rating from 0 too 10 and use integer please\n",
      "please enter the score for how angry the picture looks like. Rating from 0 too 10 and use integer please\n",
      "please enter the score for how angry the picture looks like. Rating from 0 too 10 and use integer please\n",
      "please enter the score for how angry the picture looks like. Rating from 0 too 10 and use integer please\n",
      "please enter the score for how angry the picture looks like. Rating from 0 too 10 and use integer please\n",
      "please enter the score for how angry the picture looks like. Rating from 0 too 10 and use integer please\n",
      "please enter the score for how angry the picture looks like. Rating from 0 too 10 and use integer please\n",
      "please enter the score for how angry the picture looks like. Rating from 0 too 10 and use integer please\n",
      "please enter the score for how angry the picture looks like. Rating from 0 too 10 and use integer please\n",
      "please enter the score for how angry the picture looks like. Rating from 0 too 10 and use integer please\n",
      "please enter the score for how angry the picture looks like. Rating from 0 too 10 and use integer please\n",
      "please enter the score for how angry the picture looks like. Rating from 0 too 10 and use integer please\n",
      "please enter the score for how angry the picture looks like. Rating from 0 too 10 and use integer please\n",
      "please enter the score for how angry the picture looks like. Rating from 0 too 10 and use integer please\n",
      "please enter the score for how angry the picture looks like. Rating from 0 too 10 and use integer please\n",
      "please enter the score for how angry the picture looks like. Rating from 0 too 10 and use integer please\n",
      "please enter the score for how angry the picture looks like. Rating from 0 too 10 and use integer please\n",
      "please enter the score for how angry the picture looks like. Rating from 0 too 10 and use integer please\n",
      "please enter the score for how angry the picture looks like. Rating from 0 too 10 and use integer please\n",
      "please enter the score for how angry the picture looks like. Rating from 0 too 10 and use integer please\n",
      "please enter the score for how angry the picture looks like. Rating from 0 too 10 and use integer please\n",
      "please enter the score for how angry the picture looks like. Rating from 0 too 10 and use integer please\n",
      "please enter the score for how angry the picture looks like. Rating from 0 too 10 and use integer please\n",
      "please enter the score for how angry the picture looks like. Rating from 0 too 10 and use integer please\n",
      "please enter the score for how angry the picture looks like. Rating from 0 too 10 and use integer please\n",
      "please enter the score for how angry the picture looks like. Rating from 0 too 10 and use integer please\n",
      "please enter the score for how angry the picture looks like. Rating from 0 too 10 and use integer please\n",
      "please enter the score for how angry the picture looks like. Rating from 0 too 10 and use integer please\n",
      "please enter the score for how angry the picture looks like. Rating from 0 too 10 and use integer please\n",
      "please enter the score for how angry the picture looks like. Rating from 0 too 10 and use integer please\n",
      "please enter the score for how angry the picture looks like. Rating from 0 too 10 and use integer please\n",
      "please enter the score for how angry the picture looks like. Rating from 0 too 10 and use integer please\n",
      "please enter the score for how angry the picture looks like. Rating from 0 too 10 and use integer please\n",
      "please enter the score for how angry the picture looks like. Rating from 0 too 10 and use integer please\n",
      "please enter the score for how angry the picture looks like. Rating from 0 too 10 and use integer please\n",
      "please enter the score for how angry the picture looks like. Rating from 0 too 10 and use integer please\n",
      "please enter the score for how angry the picture looks like. Rating from 0 too 10 and use integer please\n",
      "please enter the score for how angry the picture looks like. Rating from 0 too 10 and use integer please\n",
      "please enter the score for how angry the picture looks like. Rating from 0 too 10 and use integer please\n",
      "please enter the score for how angry the picture looks like. Rating from 0 too 10 and use integer please\n",
      "please enter the score for how angry the picture looks like. Rating from 0 too 10 and use integer please\n",
      "please enter the score for how angry the picture looks like. Rating from 0 too 10 and use integer please\n",
      "please enter the score for how angry the picture looks like. Rating from 0 too 10 and use integer please\n",
      "please enter the score for how angry the picture looks like. Rating from 0 too 10 and use integer please\n",
      "please enter the score for how angry the picture looks like. Rating from 0 too 10 and use integer please\n",
      "please enter the score for how angry the picture looks like. Rating from 0 too 10 and use integer please\n",
      "please enter the score for how angry the picture looks like. Rating from 0 too 10 and use integer please\n",
      "please enter the score for how angry the picture looks like. Rating from 0 too 10 and use integer please\n",
      "please enter the score for how angry the picture looks like. Rating from 0 too 10 and use integer please\n",
      "please enter the score for how angry the picture looks like. Rating from 0 too 10 and use integer please\n",
      "please enter the score for how angry the picture looks like. Rating from 0 too 10 and use integer please\n",
      "please enter the score for how angry the picture looks like. Rating from 0 too 10 and use integer please\n",
      "please enter the score for how angry the picture looks like. Rating from 0 too 10 and use integer please\n",
      "please enter the score for how angry the picture looks like. Rating from 0 too 10 and use integer please\n",
      "please enter the score for how angry the picture looks like. Rating from 0 too 10 and use integer please\n",
      "please enter the score for how angry the picture looks like. Rating from 0 too 10 and use integer please\n",
      "please enter the score for how angry the picture looks like. Rating from 0 too 10 and use integer please\n",
      "please enter the score for how angry the picture looks like. Rating from 0 too 10 and use integer please\n",
      "please enter the score for how angry the picture looks like. Rating from 0 too 10 and use integer please\n",
      "please enter the score for how angry the picture looks like. Rating from 0 too 10 and use integer please\n",
      "please enter the score for how angry the picture looks like. Rating from 0 too 10 and use integer please\n",
      "please enter the score for how angry the picture looks like. Rating from 0 too 10 and use integer please\n",
      "please enter the score for how angry the picture looks like. Rating from 0 too 10 and use integer please\n",
      "please enter the score for how angry the picture looks like. Rating from 0 too 10 and use integer please\n",
      "please enter the score for how angry the picture looks like. Rating from 0 too 10 and use integer please\n",
      "please enter the score for how angry the picture looks like. Rating from 0 too 10 and use integer please\n",
      "please enter the score for how angry the picture looks like. Rating from 0 too 10 and use integer please\n",
      "please enter the score for how angry the picture looks like. Rating from 0 too 10 and use integer please\n",
      "please enter the score for how angry the picture looks like. Rating from 0 too 10 and use integer please\n",
      "please enter the score for how angry the picture looks like. Rating from 0 too 10 and use integer please\n",
      "please enter the score for how angry the picture looks like. Rating from 0 too 10 and use integer please\n",
      "please enter the score for how angry the picture looks like. Rating from 0 too 10 and use integer please\n",
      "please enter the score for how angry the picture looks like. Rating from 0 too 10 and use integer please\n",
      "please enter the score for how angry the picture looks like. Rating from 0 too 10 and use integer please\n",
      "please enter the score for how angry the picture looks like. Rating from 0 too 10 and use integer please\n"
     ]
    },
    {
     "ename": "ValueError",
     "evalue": "invalid literal for int() with base 10: ''",
     "output_type": "error",
     "traceback": [
      "\u001B[1;31m---------------------------------------------------------------------------\u001B[0m",
      "\u001B[1;31mValueError\u001B[0m                                Traceback (most recent call last)",
      "Cell \u001B[1;32mIn[23], line 17\u001B[0m\n\u001B[0;32m     13\u001B[0m     save\u001B[38;5;241m.\u001B[39mclose()\n\u001B[0;32m     14\u001B[0m     \u001B[38;5;28;01mreturn\u001B[39;00m scores\n\u001B[1;32m---> 17\u001B[0m Scores \u001B[38;5;241m=\u001B[39m img_rate(Images)\n",
      "Cell \u001B[1;32mIn[23], line 9\u001B[0m, in \u001B[0;36mimg_rate\u001B[1;34m(images)\u001B[0m\n\u001B[0;32m      6\u001B[0m images[i]\u001B[38;5;241m.\u001B[39mshow()\n\u001B[0;32m      7\u001B[0m \u001B[38;5;28mprint\u001B[39m(\n\u001B[0;32m      8\u001B[0m     \u001B[38;5;124m'\u001B[39m\u001B[38;5;124mplease enter the score for how angry the picture looks like. Rating from 0 too 10 and use integer please\u001B[39m\u001B[38;5;124m'\u001B[39m)\n\u001B[1;32m----> 9\u001B[0m rating \u001B[38;5;241m=\u001B[39m \u001B[38;5;28mint\u001B[39m(\u001B[38;5;28minput\u001B[39m())\n\u001B[0;32m     10\u001B[0m scores\u001B[38;5;241m.\u001B[39mappend(rating)\n\u001B[0;32m     11\u001B[0m save\u001B[38;5;241m.\u001B[39mwrite(\u001B[38;5;124m\"\u001B[39m\u001B[38;5;132;01m%d\u001B[39;00m\u001B[38;5;124m \u001B[39m\u001B[38;5;132;01m%d\u001B[39;00m\u001B[38;5;130;01m\\n\u001B[39;00m\u001B[38;5;124m\"\u001B[39m \u001B[38;5;241m%\u001B[39m (i, rating))\n",
      "\u001B[1;31mValueError\u001B[0m: invalid literal for int() with base 10: ''"
     ]
    }
   ],
   "source": [
    "def img_rate(images):\n",
    "    save = open('result.txt', 'w+')\n",
    "    scores = []\n",
    "    for i in range(len(Images)):\n",
    "        \n",
    "        images[i].show()\n",
    "        print(\n",
    "            'please enter the score for how angry the picture looks like. Rating from 0 too 10 and use integer please')\n",
    "        rating = int(input())\n",
    "        scores.append(rating)\n",
    "        save.write(\"%d %d\\n\" % (i, rating))\n",
    "    \n",
    "    save.close()\n",
    "    return scores\n",
    "\n",
    "\n",
    "Scores = img_rate(Images)\n"
   ],
   "metadata": {
    "collapsed": false,
    "ExecuteTime": {
     "end_time": "2023-10-01T11:43:42.094821500Z",
     "start_time": "2023-10-01T10:00:16.160399100Z"
    }
   },
   "id": "1f5ce7e2b93d21ff"
  },
  {
   "cell_type": "code",
   "execution_count": 3,
   "outputs": [],
   "source": [],
   "metadata": {
    "collapsed": false,
    "ExecuteTime": {
     "end_time": "2023-10-01T09:44:41.988043500Z",
     "start_time": "2023-10-01T09:44:41.963083800Z"
    }
   },
   "id": "25536a013bcf4165"
  }
 ],
 "metadata": {
  "kernelspec": {
   "display_name": "Python 3",
   "language": "python",
   "name": "python3"
  },
  "language_info": {
   "codemirror_mode": {
    "name": "ipython",
    "version": 2
   },
   "file_extension": ".py",
   "mimetype": "text/x-python",
   "name": "python",
   "nbconvert_exporter": "python",
   "pygments_lexer": "ipython2",
   "version": "2.7.6"
  }
 },
 "nbformat": 4,
 "nbformat_minor": 5
}
