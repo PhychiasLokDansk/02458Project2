{
 "cells": [
  {
   "cell_type": "code",
   "execution_count": 1,
   "id": "initial_id",
   "metadata": {
    "collapsed": true,
    "ExecuteTime": {
     "end_time": "2023-09-14T06:44:52.335344100Z",
     "start_time": "2023-09-14T06:44:51.278539100Z"
    }
   },
   "outputs": [],
   "source": [
    "import math\n",
    "import numpy as np\n",
    "import matplotlib.pyplot as plt\n",
    "from scipy.stats import norm\n",
    "from operator import*\n",
    "\n",
    "def sample(times, devi, mean):\n",
    "    x = np.zeros(times)\n",
    "    for i in range(times):\n",
    "        x[i] = mean+np.random.randn()*devi\n",
    "    return x\n",
    "\n",
    "def list_mul(_list, fact):\n",
    "    al_list = _list\n",
    "    for i in range(len(_list)):\n",
    "        al_list[i] = _list[i] * fact\n",
    "    return al_list\n",
    "\n",
    "def trials(times):\n",
    "    #parameter\n",
    "    c=[0.3, 0.5, 0.8]\n",
    "    \n",
    "    #sample\n",
    "    s=sample(times, devi=0.8, mean=1)\n",
    "    s0=sample(times, devi=1, mean=0)\n",
    "    \n",
    "    #intialize counters\n",
    "    n = 3\n",
    "    ptp = [0, 0, 0]\n",
    "    pfp = [0, 0, 0]\n",
    "    \n",
    "    #count the responses\n",
    "    for i in range(times):\n",
    "        for j in range(n):\n",
    "            if s0[i] > c[j]:\n",
    "                pfp[j]+=1\n",
    "            if s[i] > c[j]:\n",
    "                ptp[j]+=1\n",
    "             \n",
    "    #transform counts into probabilities  \n",
    "    #cacluate the probit transform\n",
    "    \n",
    "    for i in range(n):\n",
    "        ptp[i] = ptp[i]/times\n",
    "        pfp[i] = pfp[i]/times\n",
    "        \n",
    "    for i in range(n):\n",
    "        ptp[i] = norm.ppf(ptp[i])\n",
    "        pfp[i] = norm.ppf(pfp[i])  \n",
    "        \n",
    "    x_ = 0\n",
    "    y_ = 0\n",
    "    xp2 = 0\n",
    "    yp2 = 0\n",
    "    xy_ = 0\n",
    "    for i in range(n):\n",
    "        x_ += pfp[i]\n",
    "        y_ += ptp[i]\n",
    "        xp2 = xp2+pfp[i]*pfp[i]\n",
    "        yp2 = yp2+ptp[i]*ptp[i]\n",
    "        xy_ += pfp[i]*ptp[i]\n",
    "    \n",
    "    x_ /= n\n",
    "    y_ /= n\n",
    "    lxx = xp2-(x_*x_)*n\n",
    "    lxy = xy_-(x_*y_)*n\n",
    "    lyy = yp2-(y_*y_)*n\n",
    "    \n",
    "    b=lxy/lxx\n",
    "    a=y_-b*x_\n",
    "    \n",
    "    devi_ = 1/b\n",
    "    mean_ = a*devi_\n",
    "    \n",
    "    #plt.plot(pfp, list_mul(pfp, 1/devi_)+mean_/devi_)\n",
    "    #plt.plot(pfp, ptp,'ro')\n",
    "    #plt.show()\n",
    "    \n",
    "    return devi_, mean_"
   ]
  },
  {
   "cell_type": "code",
   "execution_count": 2,
   "outputs": [],
   "source": [
    "def experiment(times):\n",
    "    deviations = list(range(times))\n",
    "    means = list(range(times))\n",
    "    aucs = list(range(times))\n",
    "    for i in range(times):\n",
    "        deviations[i],means[i] = trials(50)\n",
    "        aucs[i] = norm.cdf(means[i]/math.sqrt(1+math.pow(deviations[i],2)))\n",
    "        \n",
    "    return deviations ,means, aucs"
   ],
   "metadata": {
    "collapsed": false,
    "ExecuteTime": {
     "end_time": "2023-09-14T06:44:52.336348100Z",
     "start_time": "2023-09-14T06:44:52.334839100Z"
    }
   },
   "id": "ef4bacce2f5eb0b4"
  },
  {
   "cell_type": "code",
   "execution_count": 3,
   "outputs": [
    {
     "data": {
      "text/plain": "<Figure size 640x480 with 3 Axes>",
      "image/png": "[encoded data removed]"
     },
     "metadata": {},
     "output_type": "display_data"
    }
   ],
   "source": [
    "if __name__ == '__main__':\n",
    "    \n",
    "    Deviations, Means, Aucs = experiment(200)\n",
    "    \n",
    "    plt.subplot(311)\n",
    "    counts, bins = np.histogram(Deviations)\n",
    "    plt.hist(bins[:-1], bins, weights=counts)\n",
    "    \n",
    "    plt.subplot(312)\n",
    "    counts, bins = np.histogram(Means)\n",
    "    plt.hist(bins[:-1], bins, weights=counts)\n",
    "    \n",
    "    plt.subplot(313)\n",
    "    counts, bins = np.histogram(Aucs)\n",
    "    plt.hist(bins[:-1], bins, weights=counts)\n",
    "    \n",
    "    "
   ],
   "metadata": {
    "collapsed": false,
    "ExecuteTime": {
     "end_time": "2023-09-14T06:44:52.669391200Z",
     "start_time": "2023-09-14T06:44:52.338540Z"
    }
   },
   "id": "1305bfe9d253aa5a"
  },
  {
   "cell_type": "code",
   "execution_count": 6,
   "outputs": [
    {
     "name": "stdout",
     "output_type": "stream",
     "text": [
      "<generator object <genexpr> at 0x0000025FB0243C60>\n"
     ]
    }
   ],
   "source": [
    "\n"
   ],
   "metadata": {
    "collapsed": false,
    "ExecuteTime": {
     "end_time": "2023-09-14T09:25:20.489899900Z",
     "start_time": "2023-09-14T09:25:20.487287600Z"
    }
   },
   "id": "9fbc53488422231d"
  },
  {
   "cell_type": "code",
   "execution_count": null,
   "outputs": [],
   "source": [],
   "metadata": {
    "collapsed": false
   },
   "id": "1d581ccfd9cc5bce"
  }
 ],
 "metadata": {
  "kernelspec": {
   "display_name": "Python 3",
   "language": "python",
   "name": "python3"
  },
  "language_info": {
   "codemirror_mode": {
    "name": "ipython",
    "version": 2
   },
   "file_extension": ".py",
   "mimetype": "text/x-python",
   "name": "python",
   "nbconvert_exporter": "python",
   "pygments_lexer": "ipython2",
   "version": "2.7.6"
  }
 },
 "nbformat": 4,
 "nbformat_minor": 5
}
